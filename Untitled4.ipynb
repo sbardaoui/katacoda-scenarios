{
  "nbformat": 4,
  "nbformat_minor": 0,
  "metadata": {
    "colab": {
      "name": "Untitled4.ipynb",
      "provenance": [],
      "collapsed_sections": [],
      "authorship_tag": "ABX9TyPtTPOt1/cJPBBniYFQPBqU",
      "include_colab_link": true
    },
    "kernelspec": {
      "name": "python3",
      "display_name": "Python 3"
    },
    "language_info": {
      "name": "python"
    }
  },
  "cells": [
    {
      "cell_type": "markdown",
      "metadata": {
        "id": "view-in-github",
        "colab_type": "text"
      },
      "source": [
        "<a href=\"https://colab.research.google.com/github/sbardaoui/katacoda-scenarios/blob/main/Untitled4.ipynb\" target=\"_parent\"><img src=\"https://colab.research.google.com/assets/colab-badge.svg\" alt=\"Open In Colab\"/></a>"
      ]
    },
    {
      "cell_type": "markdown",
      "source": [
        "**Installing required tools to use spark SQL**"
      ],
      "metadata": {
        "id": "X7tIHg3OUVDC"
      }
    },
    {
      "cell_type": "code",
      "source": [
        "!pip install pyspark\n",
        "!pip install pyprind"
      ],
      "metadata": {
        "colab": {
          "base_uri": "https://localhost:8080/",
          "height": 0
        },
        "id": "iHO47J5R3kag",
        "outputId": "29993f27-28c4-432d-80fb-4468171e283a"
      },
      "execution_count": 79,
      "outputs": [
        {
          "output_type": "stream",
          "name": "stdout",
          "text": [
            "Requirement already satisfied: pyspark in /usr/local/lib/python3.7/dist-packages (3.2.1)\n",
            "Requirement already satisfied: py4j==0.10.9.3 in /usr/local/lib/python3.7/dist-packages (from pyspark) (0.10.9.3)\n",
            "Requirement already satisfied: pyprind in /usr/local/lib/python3.7/dist-packages (2.11.3)\n"
          ]
        }
      ]
    },
    {
      "cell_type": "markdown",
      "source": [
        "**Adding the needed libraries to access our spark data base and to manage our data**"
      ],
      "metadata": {
        "id": "PUQP0MglUeYL"
      }
    },
    {
      "cell_type": "code",
      "execution_count": 80,
      "metadata": {
        "id": "vC0etLJB253x"
      },
      "outputs": [],
      "source": [
        "from pyspark.sql import SparkSession,Row\n",
        "import pandas as pd\n",
        "import json\n",
        "import numpy as np\n",
        "import pandas as pd\n",
        "from scipy import stats\n",
        "from copy import copy\n",
        "import pyprind\n",
        "import matplotlib.pyplot as plt\n",
        "import seaborn as sns\n",
        "\n",
        "\n",
        "spark = SparkSession \\\n",
        ".builder \\\n",
        ".appName(\"PySpark Create \") \\\n",
        ".config(\"spark.some.config.option\", \"some-value\") \\\n",
        ".getOrCreate()  "
      ]
    },
    {
      "cell_type": "markdown",
      "source": [
        "**Loading the json file to get a general view and test our spark**"
      ],
      "metadata": {
        "id": "lRRFGbLJUmBs"
      }
    },
    {
      "cell_type": "code",
      "source": [
        "df = spark.read.json(\"stocks.json\")\n",
        "df.show()"
      ],
      "metadata": {
        "colab": {
          "base_uri": "https://localhost:8080/",
          "height": 0
        },
        "id": "zjxzRt_P3m2f",
        "outputId": "d8ba7f29-6a00-443f-9dd2-2b89d3d63e93"
      },
      "execution_count": 81,
      "outputs": [
        {
          "output_type": "stream",
          "name": "stdout",
          "text": [
            "+----------------------------+-----------------------------+-----------------+------------------+-------------+------------------+--------------+----+-------+--------------------+-------+--------------------+------+------+--------------------+--------------------+--------------------+------------+\n",
            "|20-Day Simple Moving Average|200-Day Simple Moving Average|           50-Day|           52-Week|Analyst Recom|Average True Range|Average Volume|Beta| Change|             Company|EPS ttm|       Earnings Date| Price|   ROI|                 _id|         description|         performance|       ratio|\n",
            "+----------------------------+-----------------------------+-----------------+------------------+-------------+------------------+--------------+----+-------+--------------------+-------+--------------------+------+------+--------------------+--------------------+--------------------+------------+\n",
            "|                     -0.0172|                       0.1062|[0.0728, -0.0544]| [0.4378, -0.0544]|          1.6|              0.86|       2569.36| 1.5|-0.0148|Agilent Technolog...|   2.68|{2013-11-14T21:30...| 50.44| 0.163|{52853800bb1177ca...|{USA, Medical Lab...|{0.1439, 0.0063, ...|  {3.0, 2.3}|\n",
            "|                     -0.0192|                       0.0823|[0.1579, -0.0925]| [0.1899, -0.0925]|          3.1|               0.3|      26728.11|2.02| 0.0033|         Alcoa, Inc.|   0.25|{2013-10-08T20:30...|  9.02| 0.007|{52853800bb1177ca...|{USA, Aluminum, B...|{0.0652, 0.0766, ...|  {1.2, 0.7}|\n",
            "|                     -0.0054|                       0.0693|[0.0792, -0.0194]| [0.2727, -0.0194]|         null|              0.31|         10.07|null| 0.0064|WCM/BNY Mellon Fo...|   null|                null|  36.4|  null|{52853800bb1177ca...|{USA, Exchange Tr...|{0.04, 0.0183, -0...|{null, null}|\n",
            "|                     -0.0295|                       0.0492|[0.0609, -0.0641]| [0.1791, -0.0641]|         null|              0.45|          1.64|null|  -0.02|iShares MSCI AC A...|   null|                null| 29.95|  null|{52853800bb1177ca...|{USA, Exchange Tr...|{0.0307, 0.003, -...|{null, null}|\n",
            "|                     -0.0189|                       0.9846|[0.8672, -0.1812]|[38.8653, -0.1812]|         null|             30.17|          4.94|null| 0.0135|Altisource Asset ...|  -0.02|                null|597.98|  null|{52853800bb1177ca...|{USA, Asset Manag...|{0.9832, 0.0631, ...|{null, null}|\n",
            "|                     -0.0035|                       0.0845|[0.0747, -0.0098]| [0.6087, -0.0382]|         null|              0.06|          9.51|0.72|-0.0025|Atlantic American...|   0.38|{2013-11-04T05:00...|  4.03| 0.031|{52853800bb1177ca...|{USA, Life Insura...|{0.0949, 0.0025, ...|{null, null}|\n",
            "|                       0.043|                       0.0653| [0.1508, -0.002]|  [0.2264, -0.023]|          2.8|              0.49|        763.14|1.04| 0.0013|       Aaron's, Inc.|   1.76|{2013-10-24T20:30...| 30.15| 0.138|{52853800bb1177ca...|{USA, Rental & Le...|{0.0517, 0.0617, ...|{null, null}|\n",
            "|                     -0.0251|                       0.0654|[0.3539, -0.0904]| [0.3539, -0.0904]|          1.8|              0.63|        110.95|null|-0.0269|Applied Optoelect...|  -0.13|                null| 12.28|-0.004|{52853800bb1177ca...|{USA, Semiconduct...|{null, 0.2397, -0...|  {1.5, 0.9}|\n",
            "|                      0.0057|                       0.2614| [0.1558, -0.054]|  [1.2639, -0.054]|          3.0|              1.07|         90.54| 1.2|  0.016|           AAON Inc.|   0.78|{2013-11-07T21:30...| 27.57| 0.198|{52853800bb1177ca...|{USA, General Bui...|{0.317, 0.0044, -...|  {2.3, 1.6}|\n",
            "|                     -0.0031|                       0.1903| [0.2545, -0.038]|  [0.4159, -0.038]|          2.3|              2.11|         749.1|0.34|-0.0077|Advance Auto Part...|   5.53|{2013-10-31T12:30...| 98.92| 0.231|{52853800bb1177ca...|{USA, Auto Parts ...|{0.1687, 0.2082, ...|  {1.3, 0.3}|\n",
            "|                      0.0176|                       0.1672|[0.1872, -0.0154]|  [0.397, -0.0899]|          2.0|              8.53|      12913.68|0.84| 0.0139|          Apple Inc.|  39.63|{2013-10-28T20:30...|527.87| 0.255|{52853800bb1177ca...|{USA, Electronic ...|{0.213, 0.0501, -...|  {1.7, 1.6}|\n",
            "|                     -0.0269|                       0.0144|[0.1307, -0.0705]| [0.3303, -0.1008]|          1.8|              0.69|        279.14|null| 0.0053|American Assets T...|   0.05|{2013-11-05T21:30...| 32.17| 0.043|{52853800bb1177ca...|{USA, REIT - Offi...|{-0.0727, -9.0E-4...|{null, null}|\n",
            "|                     -0.0722|                      -0.2745|[0.0333, -0.2994]| [0.1273, -0.6242]|         null|              0.06|        119.04|0.43| -0.008|Almaden Minerals ...|  -0.16|                null|  1.24|-0.203|{52853800bb1177ca...|{Canada, Gold, Ba...|{-0.1935, 0.0246,...|{44.8, 44.0}|\n",
            "|                     -1.0E-4|                       0.0569|[0.1127, -0.0436]| [0.4158, -0.1242]|          2.7|              0.12|        149.81|2.05| 0.0233|Advantage Oil & G...|  -0.34|{2011-03-16T04:00...|  3.95|-0.068|{52853800bb1177ca...|{Canada, Oil & Ga...|{0.0078, 0.0158, ...|  {0.8, 0.8}|\n",
            "|                     -0.1157|                      -0.1401|[0.0262, -0.2558]| [0.0363, -0.2558]|          2.3|              1.46|        272.88|1.91| 0.0026|Atlas Air Worldwi...|   4.45|{2013-11-07T13:30...| 37.94| 0.058|{52853800bb1177ca...|{USA, Air Service...|{-0.1752, -0.1406...|  {1.2, 1.2}|\n",
            "|                     -0.0173|                       0.0187|[0.0515, -0.0457]| [0.1555, -0.0457]|         null|              0.62|        710.22|1.29| 0.0092|iShares MSCI All ...|   null|                null| 59.05|  null|{52853800bb1177ca...|{USA, Exchange Tr...|{-0.025, -0.0316,...|{null, null}|\n",
            "|                      -0.007|                       0.0159| [0.123, -0.0574]| [0.4687, -0.1859]|          3.0|              0.59|        348.08|1.63|-9.0E-4|AllianceBernstein...|   1.36|{2013-10-24T12:30...|  21.5| 0.033|{52853800bb1177ca...|{USA, Asset Manag...|{-0.1159, 0.0847,...|{null, null}|\n",
            "|                     -0.0077|                      -0.1784|[0.1046, -0.1613]| [0.1046, -0.3158]|          2.6|              1.09|        161.44|0.84| 0.0025|         Abaxis Inc.|   0.84|{2013-10-22T20:30...| 35.47| 0.154|{52853800bb1177ca...|{USA, Diagnostic ...|{-0.2216, -0.0958...|  {9.1, 7.6}|\n",
            "|                       0.006|                       0.1223|[0.1522, -0.0304]| [0.4885, -0.0304]|          1.5|              0.34|        1315.6|1.36| 0.0048|            ABB Ltd.|   1.25|{2011-02-17T05:00...| 25.21| 0.112|{52853800bb1177ca...|{Switzerland, Ind...|{0.1389, 0.0773, ...|  {1.5, 1.2}|\n",
            "|                      -0.007|                       0.1267|[0.1318, -0.0416]| [0.5013, -0.0416]|          2.1|              1.02|       4582.23|null| 0.0054|         AbbVie Inc.|   2.85|{2013-10-25T12:30...| 48.11| 0.282|{52853800bb1177ca...|{USA, Drug Manufa...|{0.0544, 0.0384, ...|  {2.3, 2.1}|\n",
            "+----------------------------+-----------------------------+-----------------+------------------+-------------+------------------+--------------+----+-------+--------------------+-------+--------------------+------+------+--------------------+--------------------+--------------------+------------+\n",
            "only showing top 20 rows\n",
            "\n"
          ]
        }
      ]
    },
    {
      "cell_type": "markdown",
      "source": [
        "Viewing the schema"
      ],
      "metadata": {
        "id": "-klwPT8DUy0I"
      }
    },
    {
      "cell_type": "code",
      "source": [
        "df.printSchema()"
      ],
      "metadata": {
        "colab": {
          "base_uri": "https://localhost:8080/",
          "height": 0
        },
        "id": "6oIVIxP43xPP",
        "outputId": "f059bb0e-c170-4b62-c39e-ed1ef8436c3c"
      },
      "execution_count": 82,
      "outputs": [
        {
          "output_type": "stream",
          "name": "stdout",
          "text": [
            "root\n",
            " |-- 20-Day Simple Moving Average: double (nullable = true)\n",
            " |-- 200-Day Simple Moving Average: double (nullable = true)\n",
            " |-- 50-Day: array (nullable = true)\n",
            " |    |-- element: double (containsNull = true)\n",
            " |-- 52-Week: array (nullable = true)\n",
            " |    |-- element: double (containsNull = true)\n",
            " |-- Analyst Recom: double (nullable = true)\n",
            " |-- Average True Range: double (nullable = true)\n",
            " |-- Average Volume: double (nullable = true)\n",
            " |-- Beta: double (nullable = true)\n",
            " |-- Change: double (nullable = true)\n",
            " |-- Company: string (nullable = true)\n",
            " |-- EPS ttm: double (nullable = true)\n",
            " |-- Earnings Date: struct (nullable = true)\n",
            " |    |-- $date: string (nullable = true)\n",
            " |-- Price: double (nullable = true)\n",
            " |-- ROI: double (nullable = true)\n",
            " |-- _id: struct (nullable = true)\n",
            " |    |-- $oid: string (nullable = true)\n",
            " |-- description: struct (nullable = true)\n",
            " |    |-- Country: string (nullable = true)\n",
            " |    |-- Industry: string (nullable = true)\n",
            " |    |-- Sector: string (nullable = true)\n",
            " |-- performance: struct (nullable = true)\n",
            " |    |-- Half Year: double (nullable = true)\n",
            " |    |-- Month: double (nullable = true)\n",
            " |    |-- Week: double (nullable = true)\n",
            " |    |-- Year: double (nullable = true)\n",
            " |-- ratio: struct (nullable = true)\n",
            " |    |-- current: double (nullable = true)\n",
            " |    |-- quick: double (nullable = true)\n",
            "\n"
          ]
        }
      ]
    },
    {
      "cell_type": "markdown",
      "source": [
        "**Testing a first \"select\" using spark**"
      ],
      "metadata": {
        "id": "cx8pRR18U0iQ"
      }
    },
    {
      "cell_type": "code",
      "source": [
        "df.select(\"company\").show()"
      ],
      "metadata": {
        "colab": {
          "base_uri": "https://localhost:8080/",
          "height": 0
        },
        "id": "0hzvJ-2R30Xu",
        "outputId": "136bed1c-2437-48f2-de3e-234ab200bf4e"
      },
      "execution_count": 83,
      "outputs": [
        {
          "output_type": "stream",
          "name": "stdout",
          "text": [
            "+--------------------+\n",
            "|             company|\n",
            "+--------------------+\n",
            "|Agilent Technolog...|\n",
            "|         Alcoa, Inc.|\n",
            "|WCM/BNY Mellon Fo...|\n",
            "|iShares MSCI AC A...|\n",
            "|Altisource Asset ...|\n",
            "|Atlantic American...|\n",
            "|       Aaron's, Inc.|\n",
            "|Applied Optoelect...|\n",
            "|           AAON Inc.|\n",
            "|Advance Auto Part...|\n",
            "|          Apple Inc.|\n",
            "|American Assets T...|\n",
            "|Almaden Minerals ...|\n",
            "|Advantage Oil & G...|\n",
            "|Atlas Air Worldwi...|\n",
            "|iShares MSCI All ...|\n",
            "|AllianceBernstein...|\n",
            "|         Abaxis Inc.|\n",
            "|            ABB Ltd.|\n",
            "|         AbbVie Inc.|\n",
            "+--------------------+\n",
            "only showing top 20 rows\n",
            "\n"
          ]
        }
      ]
    },
    {
      "cell_type": "markdown",
      "source": [
        "# Manipulating Dataset"
      ],
      "metadata": {
        "id": "X69SuHknU_St"
      }
    },
    {
      "cell_type": "markdown",
      "source": [
        "**We will begin by modifying our Data using python to clean the JSON file**"
      ],
      "metadata": {
        "id": "H8jXUgzpU5sr"
      }
    },
    {
      "cell_type": "code",
      "source": [
        "df_raw = pd.read_json(\"stocks.json\", lines=True)\n",
        "df_raw.head(2)"
      ],
      "metadata": {
        "colab": {
          "base_uri": "https://localhost:8080/",
          "height": 315
        },
        "id": "7MEKGFDk4fbY",
        "outputId": "e4b9ea73-7177-4f2c-b3ef-412026f8540a"
      },
      "execution_count": 84,
      "outputs": [
        {
          "output_type": "execute_result",
          "data": {
            "text/plain": [
              "                                    _id                    Company  Price  \\\n",
              "0  {'$oid': '52853800bb1177ca391c17ff'}  Agilent Technologies Inc.  50.44   \n",
              "1  {'$oid': '52853800bb1177ca391c1800'}                Alcoa, Inc.   9.02   \n",
              "\n",
              "                               Earnings Date  \\\n",
              "0  {'$date': '2013-11-14T21:30:00.000+0000'}   \n",
              "1  {'$date': '2013-10-08T20:30:00.000+0000'}   \n",
              "\n",
              "                                         description  \\\n",
              "0  {'Country': 'USA', 'Sector': 'Healthcare', 'In...   \n",
              "1  {'Country': 'USA', 'Sector': 'Basic Materials'...   \n",
              "\n",
              "   20-Day Simple Moving Average  200-Day Simple Moving Average  \\\n",
              "0                       -0.0172                         0.1062   \n",
              "1                       -0.0192                         0.0823   \n",
              "\n",
              "                            50-Day                          52-Week  \\\n",
              "0  [0.0728, -0.054400000000000004]  [0.4378, -0.054400000000000004]   \n",
              "1                [0.1579, -0.0925]                [0.1899, -0.0925]   \n",
              "\n",
              "   Analyst Recom  Average True Range  Average Volume  Beta  Change  EPS ttm  \\\n",
              "0            1.6                0.86         2569.36  1.50 -0.0148     2.68   \n",
              "1            3.1                0.30        26728.11  2.02  0.0033     0.25   \n",
              "\n",
              "     ROI                                          ratio  \\\n",
              "0  0.163                   {'quick': 2.3, 'current': 3}   \n",
              "1  0.007  {'quick': 0.7000000000000001, 'current': 1.2}   \n",
              "\n",
              "                                         performance  \n",
              "0  {'Year': 0.4242, 'Half Year': 0.1439, 'Month':...  \n",
              "1  {'Year': 0.09630000000000001, 'Half Year': 0.0...  "
            ],
            "text/html": [
              "\n",
              "  <div id=\"df-08fc3aaa-6890-490d-98f0-614cfbf53668\">\n",
              "    <div class=\"colab-df-container\">\n",
              "      <div>\n",
              "<style scoped>\n",
              "    .dataframe tbody tr th:only-of-type {\n",
              "        vertical-align: middle;\n",
              "    }\n",
              "\n",
              "    .dataframe tbody tr th {\n",
              "        vertical-align: top;\n",
              "    }\n",
              "\n",
              "    .dataframe thead th {\n",
              "        text-align: right;\n",
              "    }\n",
              "</style>\n",
              "<table border=\"1\" class=\"dataframe\">\n",
              "  <thead>\n",
              "    <tr style=\"text-align: right;\">\n",
              "      <th></th>\n",
              "      <th>_id</th>\n",
              "      <th>Company</th>\n",
              "      <th>Price</th>\n",
              "      <th>Earnings Date</th>\n",
              "      <th>description</th>\n",
              "      <th>20-Day Simple Moving Average</th>\n",
              "      <th>200-Day Simple Moving Average</th>\n",
              "      <th>50-Day</th>\n",
              "      <th>52-Week</th>\n",
              "      <th>Analyst Recom</th>\n",
              "      <th>Average True Range</th>\n",
              "      <th>Average Volume</th>\n",
              "      <th>Beta</th>\n",
              "      <th>Change</th>\n",
              "      <th>EPS ttm</th>\n",
              "      <th>ROI</th>\n",
              "      <th>ratio</th>\n",
              "      <th>performance</th>\n",
              "    </tr>\n",
              "  </thead>\n",
              "  <tbody>\n",
              "    <tr>\n",
              "      <th>0</th>\n",
              "      <td>{'$oid': '52853800bb1177ca391c17ff'}</td>\n",
              "      <td>Agilent Technologies Inc.</td>\n",
              "      <td>50.44</td>\n",
              "      <td>{'$date': '2013-11-14T21:30:00.000+0000'}</td>\n",
              "      <td>{'Country': 'USA', 'Sector': 'Healthcare', 'In...</td>\n",
              "      <td>-0.0172</td>\n",
              "      <td>0.1062</td>\n",
              "      <td>[0.0728, -0.054400000000000004]</td>\n",
              "      <td>[0.4378, -0.054400000000000004]</td>\n",
              "      <td>1.6</td>\n",
              "      <td>0.86</td>\n",
              "      <td>2569.36</td>\n",
              "      <td>1.50</td>\n",
              "      <td>-0.0148</td>\n",
              "      <td>2.68</td>\n",
              "      <td>0.163</td>\n",
              "      <td>{'quick': 2.3, 'current': 3}</td>\n",
              "      <td>{'Year': 0.4242, 'Half Year': 0.1439, 'Month':...</td>\n",
              "    </tr>\n",
              "    <tr>\n",
              "      <th>1</th>\n",
              "      <td>{'$oid': '52853800bb1177ca391c1800'}</td>\n",
              "      <td>Alcoa, Inc.</td>\n",
              "      <td>9.02</td>\n",
              "      <td>{'$date': '2013-10-08T20:30:00.000+0000'}</td>\n",
              "      <td>{'Country': 'USA', 'Sector': 'Basic Materials'...</td>\n",
              "      <td>-0.0192</td>\n",
              "      <td>0.0823</td>\n",
              "      <td>[0.1579, -0.0925]</td>\n",
              "      <td>[0.1899, -0.0925]</td>\n",
              "      <td>3.1</td>\n",
              "      <td>0.30</td>\n",
              "      <td>26728.11</td>\n",
              "      <td>2.02</td>\n",
              "      <td>0.0033</td>\n",
              "      <td>0.25</td>\n",
              "      <td>0.007</td>\n",
              "      <td>{'quick': 0.7000000000000001, 'current': 1.2}</td>\n",
              "      <td>{'Year': 0.09630000000000001, 'Half Year': 0.0...</td>\n",
              "    </tr>\n",
              "  </tbody>\n",
              "</table>\n",
              "</div>\n",
              "      <button class=\"colab-df-convert\" onclick=\"convertToInteractive('df-08fc3aaa-6890-490d-98f0-614cfbf53668')\"\n",
              "              title=\"Convert this dataframe to an interactive table.\"\n",
              "              style=\"display:none;\">\n",
              "        \n",
              "  <svg xmlns=\"http://www.w3.org/2000/svg\" height=\"24px\"viewBox=\"0 0 24 24\"\n",
              "       width=\"24px\">\n",
              "    <path d=\"M0 0h24v24H0V0z\" fill=\"none\"/>\n",
              "    <path d=\"M18.56 5.44l.94 2.06.94-2.06 2.06-.94-2.06-.94-.94-2.06-.94 2.06-2.06.94zm-11 1L8.5 8.5l.94-2.06 2.06-.94-2.06-.94L8.5 2.5l-.94 2.06-2.06.94zm10 10l.94 2.06.94-2.06 2.06-.94-2.06-.94-.94-2.06-.94 2.06-2.06.94z\"/><path d=\"M17.41 7.96l-1.37-1.37c-.4-.4-.92-.59-1.43-.59-.52 0-1.04.2-1.43.59L10.3 9.45l-7.72 7.72c-.78.78-.78 2.05 0 2.83L4 21.41c.39.39.9.59 1.41.59.51 0 1.02-.2 1.41-.59l7.78-7.78 2.81-2.81c.8-.78.8-2.07 0-2.86zM5.41 20L4 18.59l7.72-7.72 1.47 1.35L5.41 20z\"/>\n",
              "  </svg>\n",
              "      </button>\n",
              "      \n",
              "  <style>\n",
              "    .colab-df-container {\n",
              "      display:flex;\n",
              "      flex-wrap:wrap;\n",
              "      gap: 12px;\n",
              "    }\n",
              "\n",
              "    .colab-df-convert {\n",
              "      background-color: #E8F0FE;\n",
              "      border: none;\n",
              "      border-radius: 50%;\n",
              "      cursor: pointer;\n",
              "      display: none;\n",
              "      fill: #1967D2;\n",
              "      height: 32px;\n",
              "      padding: 0 0 0 0;\n",
              "      width: 32px;\n",
              "    }\n",
              "\n",
              "    .colab-df-convert:hover {\n",
              "      background-color: #E2EBFA;\n",
              "      box-shadow: 0px 1px 2px rgba(60, 64, 67, 0.3), 0px 1px 3px 1px rgba(60, 64, 67, 0.15);\n",
              "      fill: #174EA6;\n",
              "    }\n",
              "\n",
              "    [theme=dark] .colab-df-convert {\n",
              "      background-color: #3B4455;\n",
              "      fill: #D2E3FC;\n",
              "    }\n",
              "\n",
              "    [theme=dark] .colab-df-convert:hover {\n",
              "      background-color: #434B5C;\n",
              "      box-shadow: 0px 1px 3px 1px rgba(0, 0, 0, 0.15);\n",
              "      filter: drop-shadow(0px 1px 2px rgba(0, 0, 0, 0.3));\n",
              "      fill: #FFFFFF;\n",
              "    }\n",
              "  </style>\n",
              "\n",
              "      <script>\n",
              "        const buttonEl =\n",
              "          document.querySelector('#df-08fc3aaa-6890-490d-98f0-614cfbf53668 button.colab-df-convert');\n",
              "        buttonEl.style.display =\n",
              "          google.colab.kernel.accessAllowed ? 'block' : 'none';\n",
              "\n",
              "        async function convertToInteractive(key) {\n",
              "          const element = document.querySelector('#df-08fc3aaa-6890-490d-98f0-614cfbf53668');\n",
              "          const dataTable =\n",
              "            await google.colab.kernel.invokeFunction('convertToInteractive',\n",
              "                                                     [key], {});\n",
              "          if (!dataTable) return;\n",
              "\n",
              "          const docLinkHtml = 'Like what you see? Visit the ' +\n",
              "            '<a target=\"_blank\" href=https://colab.research.google.com/notebooks/data_table.ipynb>data table notebook</a>'\n",
              "            + ' to learn more about interactive tables.';\n",
              "          element.innerHTML = '';\n",
              "          dataTable['output_type'] = 'display_data';\n",
              "          await google.colab.output.renderOutput(dataTable, element);\n",
              "          const docLink = document.createElement('div');\n",
              "          docLink.innerHTML = docLinkHtml;\n",
              "          element.appendChild(docLink);\n",
              "        }\n",
              "      </script>\n",
              "    </div>\n",
              "  </div>\n",
              "  "
            ]
          },
          "metadata": {},
          "execution_count": 84
        }
      ]
    },
    {
      "cell_type": "markdown",
      "source": [
        "Viewing the dataset shape and finding missing data"
      ],
      "metadata": {
        "id": "CuhJPlFSXi78"
      }
    },
    {
      "cell_type": "code",
      "source": [
        "def resumetable(df):\n",
        "    print(f\"Dataset Shape: {df.shape}\")\n",
        "    summary = pd.DataFrame(df.dtypes,columns=['dtypes'])\n",
        "    summary = summary.reset_index()\n",
        "    summary['Name'] = summary['index']\n",
        "    summary = summary[['Name','dtypes']]\n",
        "    summary['Missing'] = df.isnull().sum().values    \n",
        "    summary['First Value'] = df.loc[0].values\n",
        "    summary['Second Value'] = df.loc[1].values\n",
        "    summary['Third Value'] = df.loc[2].values\n",
        "\n",
        "    for name in summary['Name'].value_counts().index:\n",
        "        summary.loc[summary['Name'] == name, 'Entropy'] = round(stats.entropy(df[name].value_counts(normalize=True), base=2),2) \n",
        "\n",
        "    return summary\n",
        "\n",
        "resumetable(df_raw)"
      ],
      "metadata": {
        "colab": {
          "base_uri": "https://localhost:8080/",
          "height": 727
        },
        "id": "JwL-JINi4n6i",
        "outputId": "c27d3505-c0f1-4730-a521-882561126bbd"
      },
      "execution_count": 85,
      "outputs": [
        {
          "output_type": "stream",
          "name": "stdout",
          "text": [
            "Dataset Shape: (6756, 18)\n"
          ]
        },
        {
          "output_type": "execute_result",
          "data": {
            "text/plain": [
              "                             Name   dtypes  Missing  \\\n",
              "0                             _id   object        0   \n",
              "1                         Company   object        0   \n",
              "2                           Price  float64       13   \n",
              "3                   Earnings Date   object     2198   \n",
              "4                     description   object        0   \n",
              "5    20-Day Simple Moving Average  float64       14   \n",
              "6   200-Day Simple Moving Average  float64       14   \n",
              "7                          50-Day   object        0   \n",
              "8                         52-Week   object        0   \n",
              "9                   Analyst Recom  float64     2591   \n",
              "10             Average True Range  float64       14   \n",
              "11                 Average Volume  float64       14   \n",
              "12                           Beta  float64     2547   \n",
              "13                         Change  float64       14   \n",
              "14                        EPS ttm  float64     1728   \n",
              "15                            ROI  float64     2104   \n",
              "16                          ratio   object        0   \n",
              "17                    performance   object        0   \n",
              "\n",
              "                                          First Value  \\\n",
              "0                {'$oid': '52853800bb1177ca391c17ff'}   \n",
              "1                           Agilent Technologies Inc.   \n",
              "2                                               50.44   \n",
              "3           {'$date': '2013-11-14T21:30:00.000+0000'}   \n",
              "4   {'Country': 'USA', 'Sector': 'Healthcare', 'In...   \n",
              "5                                             -0.0172   \n",
              "6                                              0.1062   \n",
              "7                     [0.0728, -0.054400000000000004]   \n",
              "8                     [0.4378, -0.054400000000000004]   \n",
              "9                                                 1.6   \n",
              "10                                               0.86   \n",
              "11                                            2569.36   \n",
              "12                                                1.5   \n",
              "13                                            -0.0148   \n",
              "14                                               2.68   \n",
              "15                                              0.163   \n",
              "16                       {'quick': 2.3, 'current': 3}   \n",
              "17  {'Year': 0.4242, 'Half Year': 0.1439, 'Month':...   \n",
              "\n",
              "                                         Second Value  \\\n",
              "0                {'$oid': '52853800bb1177ca391c1800'}   \n",
              "1                                         Alcoa, Inc.   \n",
              "2                                                9.02   \n",
              "3           {'$date': '2013-10-08T20:30:00.000+0000'}   \n",
              "4   {'Country': 'USA', 'Sector': 'Basic Materials'...   \n",
              "5                                             -0.0192   \n",
              "6                                              0.0823   \n",
              "7                                   [0.1579, -0.0925]   \n",
              "8                                   [0.1899, -0.0925]   \n",
              "9                                                 3.1   \n",
              "10                                                0.3   \n",
              "11                                           26728.11   \n",
              "12                                               2.02   \n",
              "13                                             0.0033   \n",
              "14                                               0.25   \n",
              "15                                              0.007   \n",
              "16      {'quick': 0.7000000000000001, 'current': 1.2}   \n",
              "17  {'Year': 0.09630000000000001, 'Half Year': 0.0...   \n",
              "\n",
              "                                          Third Value  Entropy  \n",
              "0                {'$oid': '52853800bb1177ca391c1801'}    12.72  \n",
              "1               WCM/BNY Mellon Focused Growth ADR ETF    12.72  \n",
              "2                                                36.4    11.86  \n",
              "3                                                None     7.25  \n",
              "4   {'Country': 'USA', 'Sector': 'Financial', 'Ind...     6.89  \n",
              "5                                             -0.0054    10.57  \n",
              "6                                              0.0693    11.78  \n",
              "7                                   [0.0792, -0.0194]    12.71  \n",
              "8                                   [0.2727, -0.0194]    12.71  \n",
              "9                                                 NaN     4.26  \n",
              "10                                               0.31     7.39  \n",
              "11                                              10.07    12.51  \n",
              "12                                                NaN     8.07  \n",
              "13                                             0.0064     8.96  \n",
              "14                                                NaN     9.44  \n",
              "15                                                NaN     9.17  \n",
              "16                   {'quick': None, 'current': None}     5.91  \n",
              "17  {'Year': 0.229, 'Half Year': 0.04, 'Month': 0....    12.71  "
            ],
            "text/html": [
              "\n",
              "  <div id=\"df-26584868-a9cd-4fb8-b378-31a2a3fe9085\">\n",
              "    <div class=\"colab-df-container\">\n",
              "      <div>\n",
              "<style scoped>\n",
              "    .dataframe tbody tr th:only-of-type {\n",
              "        vertical-align: middle;\n",
              "    }\n",
              "\n",
              "    .dataframe tbody tr th {\n",
              "        vertical-align: top;\n",
              "    }\n",
              "\n",
              "    .dataframe thead th {\n",
              "        text-align: right;\n",
              "    }\n",
              "</style>\n",
              "<table border=\"1\" class=\"dataframe\">\n",
              "  <thead>\n",
              "    <tr style=\"text-align: right;\">\n",
              "      <th></th>\n",
              "      <th>Name</th>\n",
              "      <th>dtypes</th>\n",
              "      <th>Missing</th>\n",
              "      <th>First Value</th>\n",
              "      <th>Second Value</th>\n",
              "      <th>Third Value</th>\n",
              "      <th>Entropy</th>\n",
              "    </tr>\n",
              "  </thead>\n",
              "  <tbody>\n",
              "    <tr>\n",
              "      <th>0</th>\n",
              "      <td>_id</td>\n",
              "      <td>object</td>\n",
              "      <td>0</td>\n",
              "      <td>{'$oid': '52853800bb1177ca391c17ff'}</td>\n",
              "      <td>{'$oid': '52853800bb1177ca391c1800'}</td>\n",
              "      <td>{'$oid': '52853800bb1177ca391c1801'}</td>\n",
              "      <td>12.72</td>\n",
              "    </tr>\n",
              "    <tr>\n",
              "      <th>1</th>\n",
              "      <td>Company</td>\n",
              "      <td>object</td>\n",
              "      <td>0</td>\n",
              "      <td>Agilent Technologies Inc.</td>\n",
              "      <td>Alcoa, Inc.</td>\n",
              "      <td>WCM/BNY Mellon Focused Growth ADR ETF</td>\n",
              "      <td>12.72</td>\n",
              "    </tr>\n",
              "    <tr>\n",
              "      <th>2</th>\n",
              "      <td>Price</td>\n",
              "      <td>float64</td>\n",
              "      <td>13</td>\n",
              "      <td>50.44</td>\n",
              "      <td>9.02</td>\n",
              "      <td>36.4</td>\n",
              "      <td>11.86</td>\n",
              "    </tr>\n",
              "    <tr>\n",
              "      <th>3</th>\n",
              "      <td>Earnings Date</td>\n",
              "      <td>object</td>\n",
              "      <td>2198</td>\n",
              "      <td>{'$date': '2013-11-14T21:30:00.000+0000'}</td>\n",
              "      <td>{'$date': '2013-10-08T20:30:00.000+0000'}</td>\n",
              "      <td>None</td>\n",
              "      <td>7.25</td>\n",
              "    </tr>\n",
              "    <tr>\n",
              "      <th>4</th>\n",
              "      <td>description</td>\n",
              "      <td>object</td>\n",
              "      <td>0</td>\n",
              "      <td>{'Country': 'USA', 'Sector': 'Healthcare', 'In...</td>\n",
              "      <td>{'Country': 'USA', 'Sector': 'Basic Materials'...</td>\n",
              "      <td>{'Country': 'USA', 'Sector': 'Financial', 'Ind...</td>\n",
              "      <td>6.89</td>\n",
              "    </tr>\n",
              "    <tr>\n",
              "      <th>5</th>\n",
              "      <td>20-Day Simple Moving Average</td>\n",
              "      <td>float64</td>\n",
              "      <td>14</td>\n",
              "      <td>-0.0172</td>\n",
              "      <td>-0.0192</td>\n",
              "      <td>-0.0054</td>\n",
              "      <td>10.57</td>\n",
              "    </tr>\n",
              "    <tr>\n",
              "      <th>6</th>\n",
              "      <td>200-Day Simple Moving Average</td>\n",
              "      <td>float64</td>\n",
              "      <td>14</td>\n",
              "      <td>0.1062</td>\n",
              "      <td>0.0823</td>\n",
              "      <td>0.0693</td>\n",
              "      <td>11.78</td>\n",
              "    </tr>\n",
              "    <tr>\n",
              "      <th>7</th>\n",
              "      <td>50-Day</td>\n",
              "      <td>object</td>\n",
              "      <td>0</td>\n",
              "      <td>[0.0728, -0.054400000000000004]</td>\n",
              "      <td>[0.1579, -0.0925]</td>\n",
              "      <td>[0.0792, -0.0194]</td>\n",
              "      <td>12.71</td>\n",
              "    </tr>\n",
              "    <tr>\n",
              "      <th>8</th>\n",
              "      <td>52-Week</td>\n",
              "      <td>object</td>\n",
              "      <td>0</td>\n",
              "      <td>[0.4378, -0.054400000000000004]</td>\n",
              "      <td>[0.1899, -0.0925]</td>\n",
              "      <td>[0.2727, -0.0194]</td>\n",
              "      <td>12.71</td>\n",
              "    </tr>\n",
              "    <tr>\n",
              "      <th>9</th>\n",
              "      <td>Analyst Recom</td>\n",
              "      <td>float64</td>\n",
              "      <td>2591</td>\n",
              "      <td>1.6</td>\n",
              "      <td>3.1</td>\n",
              "      <td>NaN</td>\n",
              "      <td>4.26</td>\n",
              "    </tr>\n",
              "    <tr>\n",
              "      <th>10</th>\n",
              "      <td>Average True Range</td>\n",
              "      <td>float64</td>\n",
              "      <td>14</td>\n",
              "      <td>0.86</td>\n",
              "      <td>0.3</td>\n",
              "      <td>0.31</td>\n",
              "      <td>7.39</td>\n",
              "    </tr>\n",
              "    <tr>\n",
              "      <th>11</th>\n",
              "      <td>Average Volume</td>\n",
              "      <td>float64</td>\n",
              "      <td>14</td>\n",
              "      <td>2569.36</td>\n",
              "      <td>26728.11</td>\n",
              "      <td>10.07</td>\n",
              "      <td>12.51</td>\n",
              "    </tr>\n",
              "    <tr>\n",
              "      <th>12</th>\n",
              "      <td>Beta</td>\n",
              "      <td>float64</td>\n",
              "      <td>2547</td>\n",
              "      <td>1.5</td>\n",
              "      <td>2.02</td>\n",
              "      <td>NaN</td>\n",
              "      <td>8.07</td>\n",
              "    </tr>\n",
              "    <tr>\n",
              "      <th>13</th>\n",
              "      <td>Change</td>\n",
              "      <td>float64</td>\n",
              "      <td>14</td>\n",
              "      <td>-0.0148</td>\n",
              "      <td>0.0033</td>\n",
              "      <td>0.0064</td>\n",
              "      <td>8.96</td>\n",
              "    </tr>\n",
              "    <tr>\n",
              "      <th>14</th>\n",
              "      <td>EPS ttm</td>\n",
              "      <td>float64</td>\n",
              "      <td>1728</td>\n",
              "      <td>2.68</td>\n",
              "      <td>0.25</td>\n",
              "      <td>NaN</td>\n",
              "      <td>9.44</td>\n",
              "    </tr>\n",
              "    <tr>\n",
              "      <th>15</th>\n",
              "      <td>ROI</td>\n",
              "      <td>float64</td>\n",
              "      <td>2104</td>\n",
              "      <td>0.163</td>\n",
              "      <td>0.007</td>\n",
              "      <td>NaN</td>\n",
              "      <td>9.17</td>\n",
              "    </tr>\n",
              "    <tr>\n",
              "      <th>16</th>\n",
              "      <td>ratio</td>\n",
              "      <td>object</td>\n",
              "      <td>0</td>\n",
              "      <td>{'quick': 2.3, 'current': 3}</td>\n",
              "      <td>{'quick': 0.7000000000000001, 'current': 1.2}</td>\n",
              "      <td>{'quick': None, 'current': None}</td>\n",
              "      <td>5.91</td>\n",
              "    </tr>\n",
              "    <tr>\n",
              "      <th>17</th>\n",
              "      <td>performance</td>\n",
              "      <td>object</td>\n",
              "      <td>0</td>\n",
              "      <td>{'Year': 0.4242, 'Half Year': 0.1439, 'Month':...</td>\n",
              "      <td>{'Year': 0.09630000000000001, 'Half Year': 0.0...</td>\n",
              "      <td>{'Year': 0.229, 'Half Year': 0.04, 'Month': 0....</td>\n",
              "      <td>12.71</td>\n",
              "    </tr>\n",
              "  </tbody>\n",
              "</table>\n",
              "</div>\n",
              "      <button class=\"colab-df-convert\" onclick=\"convertToInteractive('df-26584868-a9cd-4fb8-b378-31a2a3fe9085')\"\n",
              "              title=\"Convert this dataframe to an interactive table.\"\n",
              "              style=\"display:none;\">\n",
              "        \n",
              "  <svg xmlns=\"http://www.w3.org/2000/svg\" height=\"24px\"viewBox=\"0 0 24 24\"\n",
              "       width=\"24px\">\n",
              "    <path d=\"M0 0h24v24H0V0z\" fill=\"none\"/>\n",
              "    <path d=\"M18.56 5.44l.94 2.06.94-2.06 2.06-.94-2.06-.94-.94-2.06-.94 2.06-2.06.94zm-11 1L8.5 8.5l.94-2.06 2.06-.94-2.06-.94L8.5 2.5l-.94 2.06-2.06.94zm10 10l.94 2.06.94-2.06 2.06-.94-2.06-.94-.94-2.06-.94 2.06-2.06.94z\"/><path d=\"M17.41 7.96l-1.37-1.37c-.4-.4-.92-.59-1.43-.59-.52 0-1.04.2-1.43.59L10.3 9.45l-7.72 7.72c-.78.78-.78 2.05 0 2.83L4 21.41c.39.39.9.59 1.41.59.51 0 1.02-.2 1.41-.59l7.78-7.78 2.81-2.81c.8-.78.8-2.07 0-2.86zM5.41 20L4 18.59l7.72-7.72 1.47 1.35L5.41 20z\"/>\n",
              "  </svg>\n",
              "      </button>\n",
              "      \n",
              "  <style>\n",
              "    .colab-df-container {\n",
              "      display:flex;\n",
              "      flex-wrap:wrap;\n",
              "      gap: 12px;\n",
              "    }\n",
              "\n",
              "    .colab-df-convert {\n",
              "      background-color: #E8F0FE;\n",
              "      border: none;\n",
              "      border-radius: 50%;\n",
              "      cursor: pointer;\n",
              "      display: none;\n",
              "      fill: #1967D2;\n",
              "      height: 32px;\n",
              "      padding: 0 0 0 0;\n",
              "      width: 32px;\n",
              "    }\n",
              "\n",
              "    .colab-df-convert:hover {\n",
              "      background-color: #E2EBFA;\n",
              "      box-shadow: 0px 1px 2px rgba(60, 64, 67, 0.3), 0px 1px 3px 1px rgba(60, 64, 67, 0.15);\n",
              "      fill: #174EA6;\n",
              "    }\n",
              "\n",
              "    [theme=dark] .colab-df-convert {\n",
              "      background-color: #3B4455;\n",
              "      fill: #D2E3FC;\n",
              "    }\n",
              "\n",
              "    [theme=dark] .colab-df-convert:hover {\n",
              "      background-color: #434B5C;\n",
              "      box-shadow: 0px 1px 3px 1px rgba(0, 0, 0, 0.15);\n",
              "      filter: drop-shadow(0px 1px 2px rgba(0, 0, 0, 0.3));\n",
              "      fill: #FFFFFF;\n",
              "    }\n",
              "  </style>\n",
              "\n",
              "      <script>\n",
              "        const buttonEl =\n",
              "          document.querySelector('#df-26584868-a9cd-4fb8-b378-31a2a3fe9085 button.colab-df-convert');\n",
              "        buttonEl.style.display =\n",
              "          google.colab.kernel.accessAllowed ? 'block' : 'none';\n",
              "\n",
              "        async function convertToInteractive(key) {\n",
              "          const element = document.querySelector('#df-26584868-a9cd-4fb8-b378-31a2a3fe9085');\n",
              "          const dataTable =\n",
              "            await google.colab.kernel.invokeFunction('convertToInteractive',\n",
              "                                                     [key], {});\n",
              "          if (!dataTable) return;\n",
              "\n",
              "          const docLinkHtml = 'Like what you see? Visit the ' +\n",
              "            '<a target=\"_blank\" href=https://colab.research.google.com/notebooks/data_table.ipynb>data table notebook</a>'\n",
              "            + ' to learn more about interactive tables.';\n",
              "          element.innerHTML = '';\n",
              "          dataTable['output_type'] = 'display_data';\n",
              "          await google.colab.output.renderOutput(dataTable, element);\n",
              "          const docLink = document.createElement('div');\n",
              "          docLink.innerHTML = docLinkHtml;\n",
              "          element.appendChild(docLink);\n",
              "        }\n",
              "      </script>\n",
              "    </div>\n",
              "  </div>\n",
              "  "
            ]
          },
          "metadata": {},
          "execution_count": 85
        }
      ]
    },
    {
      "cell_type": "code",
      "source": [
        "for col in df_raw:\n",
        "    print(col)\n",
        "    print(type(df_raw[col].values[0]))\n",
        "    print(\"---------------\")"
      ],
      "metadata": {
        "colab": {
          "base_uri": "https://localhost:8080/",
          "height": 0
        },
        "id": "QKMCjEYc4v-q",
        "outputId": "fb38c98d-1ab5-475c-dcd0-79a0e92fcd58"
      },
      "execution_count": 86,
      "outputs": [
        {
          "output_type": "stream",
          "name": "stdout",
          "text": [
            "_id\n",
            "<class 'dict'>\n",
            "---------------\n",
            "Company\n",
            "<class 'str'>\n",
            "---------------\n",
            "Price\n",
            "<class 'numpy.float64'>\n",
            "---------------\n",
            "Earnings Date\n",
            "<class 'dict'>\n",
            "---------------\n",
            "description\n",
            "<class 'dict'>\n",
            "---------------\n",
            "20-Day Simple Moving Average\n",
            "<class 'numpy.float64'>\n",
            "---------------\n",
            "200-Day Simple Moving Average\n",
            "<class 'numpy.float64'>\n",
            "---------------\n",
            "50-Day\n",
            "<class 'list'>\n",
            "---------------\n",
            "52-Week\n",
            "<class 'list'>\n",
            "---------------\n",
            "Analyst Recom\n",
            "<class 'numpy.float64'>\n",
            "---------------\n",
            "Average True Range\n",
            "<class 'numpy.float64'>\n",
            "---------------\n",
            "Average Volume\n",
            "<class 'numpy.float64'>\n",
            "---------------\n",
            "Beta\n",
            "<class 'numpy.float64'>\n",
            "---------------\n",
            "Change\n",
            "<class 'numpy.float64'>\n",
            "---------------\n",
            "EPS ttm\n",
            "<class 'numpy.float64'>\n",
            "---------------\n",
            "ROI\n",
            "<class 'numpy.float64'>\n",
            "---------------\n",
            "ratio\n",
            "<class 'dict'>\n",
            "---------------\n",
            "performance\n",
            "<class 'dict'>\n",
            "---------------\n"
          ]
        }
      ]
    },
    {
      "cell_type": "code",
      "source": [
        "_id_column = df_raw[\"_id\"].apply(lambda x: x.get('$oid'))\n",
        "# np.datetime64\n",
        "_id_column"
      ],
      "metadata": {
        "colab": {
          "base_uri": "https://localhost:8080/",
          "height": 0
        },
        "id": "aWAUE0D-5HpO",
        "outputId": "e36e27a7-be7c-4a2b-f72d-40b8d5afc816"
      },
      "execution_count": 87,
      "outputs": [
        {
          "output_type": "execute_result",
          "data": {
            "text/plain": [
              "0       52853800bb1177ca391c17ff\n",
              "1       52853800bb1177ca391c1800\n",
              "2       52853800bb1177ca391c1801\n",
              "3       52853800bb1177ca391c1802\n",
              "4       52853800bb1177ca391c1803\n",
              "                  ...           \n",
              "6751    52853810bb1177ca391c325e\n",
              "6752    52853810bb1177ca391c325f\n",
              "6753    52853810bb1177ca391c3260\n",
              "6754    52853810bb1177ca391c3261\n",
              "6755    52853810bb1177ca391c3262\n",
              "Name: _id, Length: 6756, dtype: object"
            ]
          },
          "metadata": {},
          "execution_count": 87
        }
      ]
    },
    {
      "cell_type": "code",
      "source": [
        "date_column = df_raw[\"Earnings Date\"].apply(lambda x: np.nan if x is None else x.get('$date'))\n",
        "date_column = pd.to_datetime(date_column)\n",
        "date_column"
      ],
      "metadata": {
        "colab": {
          "base_uri": "https://localhost:8080/",
          "height": 0
        },
        "id": "KOp4XjqP5J2e",
        "outputId": "bd49e087-6016-4024-83be-4ed6b096fa5e"
      },
      "execution_count": 88,
      "outputs": [
        {
          "output_type": "execute_result",
          "data": {
            "text/plain": [
              "0      2013-11-14 21:30:00+00:00\n",
              "1      2013-10-08 20:30:00+00:00\n",
              "2                            NaT\n",
              "3                            NaT\n",
              "4                            NaT\n",
              "                  ...           \n",
              "6751                         NaT\n",
              "6752                         NaT\n",
              "6753   2013-11-05 13:30:00+00:00\n",
              "6754   2013-12-05 21:30:00+00:00\n",
              "6755   2013-11-20 13:30:00+00:00\n",
              "Name: Earnings Date, Length: 6756, dtype: datetime64[ns, UTC]"
            ]
          },
          "metadata": {},
          "execution_count": 88
        }
      ]
    },
    {
      "cell_type": "code",
      "source": [
        "desc_column = df_raw[\"description\"].apply(\n",
        "    lambda x: x if not None else {\"Country\": None, \"Sector\": None, \"Industry\": None})\n",
        "desc_column = desc_column.fillna(\"null\")"
      ],
      "metadata": {
        "id": "Z3dUMeci5Ktb"
      },
      "execution_count": 89,
      "outputs": []
    },
    {
      "cell_type": "code",
      "source": [
        "perf_column = df_raw[\"performance\"].apply(\n",
        "    lambda x: x if not None else {\"Year\": None, \"Half Year\": None, \"Month\": None, \"Week\": None})\n",
        "perf_column = perf_column.fillna(0.0)"
      ],
      "metadata": {
        "id": "33g-hrIt5NPO"
      },
      "execution_count": 90,
      "outputs": []
    },
    {
      "cell_type": "code",
      "source": [
        "ratio_column = df_raw[\"ratio\"].apply(\n",
        "    lambda x: x if not None else {\"quick\": None, \"current\": None})\n",
        "ratio_column = ratio_column.fillna(0.0)"
      ],
      "metadata": {
        "id": "gTqg-0GQ5Ozn"
      },
      "execution_count": 91,
      "outputs": []
    },
    {
      "cell_type": "code",
      "source": [
        "df_clean = df_raw\n",
        "df_clean[\"_id\"] = _id_column\n",
        "df_clean[\"Earnings Date\"] = date_column\n",
        "df_clean[\"description\"] = desc_column\n",
        "df_clean[\"performance\"] = perf_column\n",
        "df_clean[\"ratio\"] = ratio_column\n",
        "df_clean.columns = [\"id\", \"company\", \"price\", \"earningsdate\", \n",
        "\"description\", \"SMA20\", \"SMA200\", \"days50highlow\", \n",
        "\"weeks52highlow\", \"analyst_recommendation\", \n",
        "\"avg_true_rate\", \"avg_vol\", \"beta\", \"change\", \n",
        "\"EPSttm\", \"ROI\", \"ratio\", \"performance\"]\n",
        "\n",
        "df_clean.head(2)"
      ],
      "metadata": {
        "colab": {
          "base_uri": "https://localhost:8080/",
          "height": 263
        },
        "id": "Zky61aFP5QXL",
        "outputId": "a0fa7f51-8f15-4d54-ee85-d07461077b00"
      },
      "execution_count": 92,
      "outputs": [
        {
          "output_type": "execute_result",
          "data": {
            "text/plain": [
              "                         id                    company  price  \\\n",
              "0  52853800bb1177ca391c17ff  Agilent Technologies Inc.  50.44   \n",
              "1  52853800bb1177ca391c1800                Alcoa, Inc.   9.02   \n",
              "\n",
              "               earningsdate  \\\n",
              "0 2013-11-14 21:30:00+00:00   \n",
              "1 2013-10-08 20:30:00+00:00   \n",
              "\n",
              "                                         description   SMA20  SMA200  \\\n",
              "0  {'Country': 'USA', 'Sector': 'Healthcare', 'In... -0.0172  0.1062   \n",
              "1  {'Country': 'USA', 'Sector': 'Basic Materials'... -0.0192  0.0823   \n",
              "\n",
              "                     days50highlow                   weeks52highlow  \\\n",
              "0  [0.0728, -0.054400000000000004]  [0.4378, -0.054400000000000004]   \n",
              "1                [0.1579, -0.0925]                [0.1899, -0.0925]   \n",
              "\n",
              "   analyst_recommendation  avg_true_rate   avg_vol  beta  change  EPSttm  \\\n",
              "0                     1.6           0.86   2569.36  1.50 -0.0148    2.68   \n",
              "1                     3.1           0.30  26728.11  2.02  0.0033    0.25   \n",
              "\n",
              "     ROI                                          ratio  \\\n",
              "0  0.163                   {'quick': 2.3, 'current': 3}   \n",
              "1  0.007  {'quick': 0.7000000000000001, 'current': 1.2}   \n",
              "\n",
              "                                         performance  \n",
              "0  {'Year': 0.4242, 'Half Year': 0.1439, 'Month':...  \n",
              "1  {'Year': 0.09630000000000001, 'Half Year': 0.0...  "
            ],
            "text/html": [
              "\n",
              "  <div id=\"df-116fc12e-bd74-4c58-b34d-01f4d7891b14\">\n",
              "    <div class=\"colab-df-container\">\n",
              "      <div>\n",
              "<style scoped>\n",
              "    .dataframe tbody tr th:only-of-type {\n",
              "        vertical-align: middle;\n",
              "    }\n",
              "\n",
              "    .dataframe tbody tr th {\n",
              "        vertical-align: top;\n",
              "    }\n",
              "\n",
              "    .dataframe thead th {\n",
              "        text-align: right;\n",
              "    }\n",
              "</style>\n",
              "<table border=\"1\" class=\"dataframe\">\n",
              "  <thead>\n",
              "    <tr style=\"text-align: right;\">\n",
              "      <th></th>\n",
              "      <th>id</th>\n",
              "      <th>company</th>\n",
              "      <th>price</th>\n",
              "      <th>earningsdate</th>\n",
              "      <th>description</th>\n",
              "      <th>SMA20</th>\n",
              "      <th>SMA200</th>\n",
              "      <th>days50highlow</th>\n",
              "      <th>weeks52highlow</th>\n",
              "      <th>analyst_recommendation</th>\n",
              "      <th>avg_true_rate</th>\n",
              "      <th>avg_vol</th>\n",
              "      <th>beta</th>\n",
              "      <th>change</th>\n",
              "      <th>EPSttm</th>\n",
              "      <th>ROI</th>\n",
              "      <th>ratio</th>\n",
              "      <th>performance</th>\n",
              "    </tr>\n",
              "  </thead>\n",
              "  <tbody>\n",
              "    <tr>\n",
              "      <th>0</th>\n",
              "      <td>52853800bb1177ca391c17ff</td>\n",
              "      <td>Agilent Technologies Inc.</td>\n",
              "      <td>50.44</td>\n",
              "      <td>2013-11-14 21:30:00+00:00</td>\n",
              "      <td>{'Country': 'USA', 'Sector': 'Healthcare', 'In...</td>\n",
              "      <td>-0.0172</td>\n",
              "      <td>0.1062</td>\n",
              "      <td>[0.0728, -0.054400000000000004]</td>\n",
              "      <td>[0.4378, -0.054400000000000004]</td>\n",
              "      <td>1.6</td>\n",
              "      <td>0.86</td>\n",
              "      <td>2569.36</td>\n",
              "      <td>1.50</td>\n",
              "      <td>-0.0148</td>\n",
              "      <td>2.68</td>\n",
              "      <td>0.163</td>\n",
              "      <td>{'quick': 2.3, 'current': 3}</td>\n",
              "      <td>{'Year': 0.4242, 'Half Year': 0.1439, 'Month':...</td>\n",
              "    </tr>\n",
              "    <tr>\n",
              "      <th>1</th>\n",
              "      <td>52853800bb1177ca391c1800</td>\n",
              "      <td>Alcoa, Inc.</td>\n",
              "      <td>9.02</td>\n",
              "      <td>2013-10-08 20:30:00+00:00</td>\n",
              "      <td>{'Country': 'USA', 'Sector': 'Basic Materials'...</td>\n",
              "      <td>-0.0192</td>\n",
              "      <td>0.0823</td>\n",
              "      <td>[0.1579, -0.0925]</td>\n",
              "      <td>[0.1899, -0.0925]</td>\n",
              "      <td>3.1</td>\n",
              "      <td>0.30</td>\n",
              "      <td>26728.11</td>\n",
              "      <td>2.02</td>\n",
              "      <td>0.0033</td>\n",
              "      <td>0.25</td>\n",
              "      <td>0.007</td>\n",
              "      <td>{'quick': 0.7000000000000001, 'current': 1.2}</td>\n",
              "      <td>{'Year': 0.09630000000000001, 'Half Year': 0.0...</td>\n",
              "    </tr>\n",
              "  </tbody>\n",
              "</table>\n",
              "</div>\n",
              "      <button class=\"colab-df-convert\" onclick=\"convertToInteractive('df-116fc12e-bd74-4c58-b34d-01f4d7891b14')\"\n",
              "              title=\"Convert this dataframe to an interactive table.\"\n",
              "              style=\"display:none;\">\n",
              "        \n",
              "  <svg xmlns=\"http://www.w3.org/2000/svg\" height=\"24px\"viewBox=\"0 0 24 24\"\n",
              "       width=\"24px\">\n",
              "    <path d=\"M0 0h24v24H0V0z\" fill=\"none\"/>\n",
              "    <path d=\"M18.56 5.44l.94 2.06.94-2.06 2.06-.94-2.06-.94-.94-2.06-.94 2.06-2.06.94zm-11 1L8.5 8.5l.94-2.06 2.06-.94-2.06-.94L8.5 2.5l-.94 2.06-2.06.94zm10 10l.94 2.06.94-2.06 2.06-.94-2.06-.94-.94-2.06-.94 2.06-2.06.94z\"/><path d=\"M17.41 7.96l-1.37-1.37c-.4-.4-.92-.59-1.43-.59-.52 0-1.04.2-1.43.59L10.3 9.45l-7.72 7.72c-.78.78-.78 2.05 0 2.83L4 21.41c.39.39.9.59 1.41.59.51 0 1.02-.2 1.41-.59l7.78-7.78 2.81-2.81c.8-.78.8-2.07 0-2.86zM5.41 20L4 18.59l7.72-7.72 1.47 1.35L5.41 20z\"/>\n",
              "  </svg>\n",
              "      </button>\n",
              "      \n",
              "  <style>\n",
              "    .colab-df-container {\n",
              "      display:flex;\n",
              "      flex-wrap:wrap;\n",
              "      gap: 12px;\n",
              "    }\n",
              "\n",
              "    .colab-df-convert {\n",
              "      background-color: #E8F0FE;\n",
              "      border: none;\n",
              "      border-radius: 50%;\n",
              "      cursor: pointer;\n",
              "      display: none;\n",
              "      fill: #1967D2;\n",
              "      height: 32px;\n",
              "      padding: 0 0 0 0;\n",
              "      width: 32px;\n",
              "    }\n",
              "\n",
              "    .colab-df-convert:hover {\n",
              "      background-color: #E2EBFA;\n",
              "      box-shadow: 0px 1px 2px rgba(60, 64, 67, 0.3), 0px 1px 3px 1px rgba(60, 64, 67, 0.15);\n",
              "      fill: #174EA6;\n",
              "    }\n",
              "\n",
              "    [theme=dark] .colab-df-convert {\n",
              "      background-color: #3B4455;\n",
              "      fill: #D2E3FC;\n",
              "    }\n",
              "\n",
              "    [theme=dark] .colab-df-convert:hover {\n",
              "      background-color: #434B5C;\n",
              "      box-shadow: 0px 1px 3px 1px rgba(0, 0, 0, 0.15);\n",
              "      filter: drop-shadow(0px 1px 2px rgba(0, 0, 0, 0.3));\n",
              "      fill: #FFFFFF;\n",
              "    }\n",
              "  </style>\n",
              "\n",
              "      <script>\n",
              "        const buttonEl =\n",
              "          document.querySelector('#df-116fc12e-bd74-4c58-b34d-01f4d7891b14 button.colab-df-convert');\n",
              "        buttonEl.style.display =\n",
              "          google.colab.kernel.accessAllowed ? 'block' : 'none';\n",
              "\n",
              "        async function convertToInteractive(key) {\n",
              "          const element = document.querySelector('#df-116fc12e-bd74-4c58-b34d-01f4d7891b14');\n",
              "          const dataTable =\n",
              "            await google.colab.kernel.invokeFunction('convertToInteractive',\n",
              "                                                     [key], {});\n",
              "          if (!dataTable) return;\n",
              "\n",
              "          const docLinkHtml = 'Like what you see? Visit the ' +\n",
              "            '<a target=\"_blank\" href=https://colab.research.google.com/notebooks/data_table.ipynb>data table notebook</a>'\n",
              "            + ' to learn more about interactive tables.';\n",
              "          element.innerHTML = '';\n",
              "          dataTable['output_type'] = 'display_data';\n",
              "          await google.colab.output.renderOutput(dataTable, element);\n",
              "          const docLink = document.createElement('div');\n",
              "          docLink.innerHTML = docLinkHtml;\n",
              "          element.appendChild(docLink);\n",
              "        }\n",
              "      </script>\n",
              "    </div>\n",
              "  </div>\n",
              "  "
            ]
          },
          "metadata": {},
          "execution_count": 92
        }
      ]
    },
    {
      "cell_type": "markdown",
      "source": [
        "Exporting into a CSV file"
      ],
      "metadata": {
        "id": "GmT7vFv3eBz3"
      }
    },
    {
      "cell_type": "code",
      "source": [
        "df_clean.to_csv(\"stocks_clean.csv\", index=False)"
      ],
      "metadata": {
        "id": "ydA3addU5S4x"
      },
      "execution_count": 93,
      "outputs": []
    },
    {
      "cell_type": "markdown",
      "source": [
        "Exporting into a JSON file"
      ],
      "metadata": {
        "id": "3Wqre_Z0eDU1"
      }
    },
    {
      "cell_type": "code",
      "source": [
        "df_clean.to_json(\"stocks_clean.json\", orient='records')"
      ],
      "metadata": {
        "id": "c6pUdjc35VDg"
      },
      "execution_count": 94,
      "outputs": []
    },
    {
      "cell_type": "markdown",
      "source": [
        "**Partie 1 req simple**"
      ],
      "metadata": {
        "id": "p6aSuZwp5w8o"
      }
    },
    {
      "cell_type": "markdown",
      "source": [
        "Selecting a specific company details"
      ],
      "metadata": {
        "id": "RDbRQBIveFfW"
      }
    },
    {
      "cell_type": "code",
      "source": [
        "df = spark.read.json(\"stocks_clean.json\")\n",
        "df.registerTempTable(\"stocks\")\n",
        "spark.sql(\"Select id, company, price from stocks where company = 'AbbVie Inc.' \").show()"
      ],
      "metadata": {
        "colab": {
          "base_uri": "https://localhost:8080/",
          "height": 0
        },
        "id": "AtxGK0KI5cFG",
        "outputId": "79ac4ed9-2803-4680-fda7-ce7445768710"
      },
      "execution_count": 95,
      "outputs": [
        {
          "output_type": "stream",
          "name": "stderr",
          "text": [
            "/usr/local/lib/python3.7/dist-packages/pyspark/sql/dataframe.py:140: FutureWarning: Deprecated in 2.0, use createOrReplaceTempView instead.\n",
            "  FutureWarning\n"
          ]
        },
        {
          "output_type": "stream",
          "name": "stdout",
          "text": [
            "+--------------------+-----------+-----+\n",
            "|                  id|    company|price|\n",
            "+--------------------+-----------+-----+\n",
            "|52853800bb1177ca3...|AbbVie Inc.|48.11|\n",
            "+--------------------+-----------+-----+\n",
            "\n"
          ]
        }
      ]
    },
    {
      "cell_type": "markdown",
      "source": [
        "Counting all rows"
      ],
      "metadata": {
        "id": "jXstEAhhd3jv"
      }
    },
    {
      "cell_type": "code",
      "source": [
        "spark.sql(\"select count('*') from stocks\").show()"
      ],
      "metadata": {
        "colab": {
          "base_uri": "https://localhost:8080/",
          "height": 0
        },
        "id": "KxQ4dRS3-5ty",
        "outputId": "e3106eff-f367-44bb-ec4a-abb0f34f199e"
      },
      "execution_count": 96,
      "outputs": [
        {
          "output_type": "stream",
          "name": "stdout",
          "text": [
            "+--------+\n",
            "|count(*)|\n",
            "+--------+\n",
            "|    6756|\n",
            "+--------+\n",
            "\n"
          ]
        }
      ]
    },
    {
      "cell_type": "markdown",
      "source": [
        "Selecting with a defined ID"
      ],
      "metadata": {
        "id": "N0QeJ2SId5ok"
      }
    },
    {
      "cell_type": "code",
      "source": [
        "spark.sql(\"select * from stocks where id='5285380dbb1177ca391c2f9a'\").show()"
      ],
      "metadata": {
        "colab": {
          "base_uri": "https://localhost:8080/",
          "height": 0
        },
        "id": "OSHO89pC_FPk",
        "outputId": "0d34fefa-41af-4f99-e9a4-2bec4333259e"
      },
      "execution_count": 97,
      "outputs": [
        {
          "output_type": "stream",
          "name": "stdout",
          "text": [
            "+------+------+-------+------+----------------------+-------------+--------+----+-------+------------------+-----------------+--------------------+-------------+--------------------+--------------------+------+----------+-----------------+\n",
            "|EPSttm|   ROI|  SMA20|SMA200|analyst_recommendation|avg_true_rate| avg_vol|beta| change|           company|    days50highlow|         description| earningsdate|                  id|         performance| price|     ratio|   weeks52highlow|\n",
            "+------+------+-------+------+----------------------+-------------+--------+----+-------+------------------+-----------------+--------------------+-------------+--------------------+--------------------+------+----------+-----------------+\n",
            "| -1.36|-0.667|-0.1504|0.3027|                   2.5|        10.13|11357.89|0.39|-0.0112|Tesla Motors, Inc.|[0.0364, -0.2949]|{USA, Auto Manufa...|1383687000000|5285380dbb1177ca3...|{0.6348, -0.2459,...|137.14|{2.3, 1.8}|[3.4964, -0.2949]|\n",
            "+------+------+-------+------+----------------------+-------------+--------+----+-------+------------------+-----------------+--------------------+-------------+--------------------+--------------------+------+----------+-----------------+\n",
            "\n"
          ]
        }
      ]
    }
  ]
}